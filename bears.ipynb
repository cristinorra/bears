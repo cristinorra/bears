{
 "cells": [
  {
   "cell_type": "code",
   "execution_count": null,
   "metadata": {
    "executionInfo": {
     "elapsed": 4700,
     "status": "ok",
     "timestamp": 1647467775009,
     "user": {
      "displayName": "Cristino Ramírez",
      "photoUrl": "https://lh3.googleusercontent.com/a-/AOh14GhoEHC-Vmc3NAyRF3jIZT7ahhvInR4fN7c6lILH=s64",
      "userId": "14842851139139848475"
     },
     "user_tz": -60
    },
    "id": "hg9DX6vm_hY5"
   },
   "outputs": [],
   "source": [
    "!pip install -Uqq fastbook"
   ]
  },
  {
   "cell_type": "code",
   "execution_count": null,
   "metadata": {
    "executionInfo": {
     "elapsed": 263,
     "status": "ok",
     "timestamp": 1647467783401,
     "user": {
      "displayName": "Cristino Ramírez",
      "photoUrl": "https://lh3.googleusercontent.com/a-/AOh14GhoEHC-Vmc3NAyRF3jIZT7ahhvInR4fN7c6lILH=s64",
      "userId": "14842851139139848475"
     },
     "user_tz": -60
    },
    "id": "S6E-UcZS_o3M"
   },
   "outputs": [],
   "source": [
    "import fastbook"
   ]
  },
  {
   "cell_type": "code",
   "execution_count": null,
   "metadata": {
    "executionInfo": {
     "elapsed": 229,
     "status": "ok",
     "timestamp": 1647467788868,
     "user": {
      "displayName": "Cristino Ramírez",
      "photoUrl": "https://lh3.googleusercontent.com/a-/AOh14GhoEHC-Vmc3NAyRF3jIZT7ahhvInR4fN7c6lILH=s64",
      "userId": "14842851139139848475"
     },
     "user_tz": -60
    },
    "id": "4LPLSUcb_uNA"
   },
   "outputs": [],
   "source": [
    "fastbook.setup_book()"
   ]
  },
  {
   "cell_type": "code",
   "execution_count": null,
   "metadata": {
    "executionInfo": {
     "elapsed": 243,
     "status": "ok",
     "timestamp": 1647467792924,
     "user": {
      "displayName": "Cristino Ramírez",
      "photoUrl": "https://lh3.googleusercontent.com/a-/AOh14GhoEHC-Vmc3NAyRF3jIZT7ahhvInR4fN7c6lILH=s64",
      "userId": "14842851139139848475"
     },
     "user_tz": -60
    },
    "id": "gs_QdJb0_1UV"
   },
   "outputs": [],
   "source": [
    "from fastbook import *"
   ]
  },
  {
   "cell_type": "code",
   "execution_count": null,
   "metadata": {
    "executionInfo": {
     "elapsed": 232,
     "status": "ok",
     "timestamp": 1647467794715,
     "user": {
      "displayName": "Cristino Ramírez",
      "photoUrl": "https://lh3.googleusercontent.com/a-/AOh14GhoEHC-Vmc3NAyRF3jIZT7ahhvInR4fN7c6lILH=s64",
      "userId": "14842851139139848475"
     },
     "user_tz": -60
    },
    "id": "uxe2-6Ze_3uX"
   },
   "outputs": [],
   "source": [
    "from fastai.vision.widgets import *"
   ]
  },
  {
   "cell_type": "code",
   "execution_count": null,
   "metadata": {
    "colab": {
     "base_uri": "https://localhost:8080/"
    },
    "executionInfo": {
     "elapsed": 3885,
     "status": "ok",
     "timestamp": 1647467800858,
     "user": {
      "displayName": "Cristino Ramírez",
      "photoUrl": "https://lh3.googleusercontent.com/a-/AOh14GhoEHC-Vmc3NAyRF3jIZT7ahhvInR4fN7c6lILH=s64",
      "userId": "14842851139139848475"
     },
     "user_tz": -60
    },
    "id": "Ysx87ufw_52R",
    "outputId": "bc818c41-ad70-4bef-b802-9d475a8dff0f"
   },
   "outputs": [],
   "source": [
    "!pip install voila"
   ]
  },
  {
   "cell_type": "code",
   "execution_count": null,
   "metadata": {
    "colab": {
     "base_uri": "https://localhost:8080/"
    },
    "executionInfo": {
     "elapsed": 1597,
     "status": "ok",
     "timestamp": 1647467806790,
     "user": {
      "displayName": "Cristino Ramírez",
      "photoUrl": "https://lh3.googleusercontent.com/a-/AOh14GhoEHC-Vmc3NAyRF3jIZT7ahhvInR4fN7c6lILH=s64",
      "userId": "14842851139139848475"
     },
     "user_tz": -60
    },
    "id": "IcflR0rCAIKt",
    "outputId": "e4089911-5cfa-4e61-e68e-2eb54c4ba035"
   },
   "outputs": [],
   "source": [
    "!jupyter serverextension enable --sys-prefix voila"
   ]
  },
  {
   "cell_type": "code",
   "execution_count": null,
   "metadata": {
    "colab": {
     "base_uri": "https://localhost:8080/",
     "height": 49,
     "referenced_widgets": [
      "02cf429d4ab0408b9ad36243223ff065",
      "a5dd25733aa64194bb05923bc2985923",
      "5cd5b55ceb7d4610abe04dbe9c65e096"
     ]
    },
    "executionInfo": {
     "elapsed": 257,
     "status": "ok",
     "timestamp": 1647467808834,
     "user": {
      "displayName": "Cristino Ramírez",
      "photoUrl": "https://lh3.googleusercontent.com/a-/AOh14GhoEHC-Vmc3NAyRF3jIZT7ahhvInR4fN7c6lILH=s64",
      "userId": "14842851139139848475"
     },
     "user_tz": -60
    },
    "id": "lSZd-XcPAKUl",
    "outputId": "d7b78834-c1b2-4b54-cfbc-f776f880d74a"
   },
   "outputs": [],
   "source": [
    "btn_upload = widgets.FileUpload()\n",
    "btn_upload"
   ]
  },
  {
   "cell_type": "code",
   "execution_count": null,
   "metadata": {
    "executionInfo": {
     "elapsed": 277,
     "status": "ok",
     "timestamp": 1647467824900,
     "user": {
      "displayName": "Cristino Ramírez",
      "photoUrl": "https://lh3.googleusercontent.com/a-/AOh14GhoEHC-Vmc3NAyRF3jIZT7ahhvInR4fN7c6lILH=s64",
      "userId": "14842851139139848475"
     },
     "user_tz": -60
    },
    "id": "NWJgP3ylAQW2"
   },
   "outputs": [],
   "source": [
    "img = PILImage.create(btn_upload.data[-1])"
   ]
  },
  {
   "cell_type": "code",
   "execution_count": null,
   "metadata": {
    "colab": {
     "base_uri": "https://localhost:8080/",
     "height": 102,
     "referenced_widgets": [
      "ebf987f57c1c43ada81eb27757dc4aca",
      "de4ba5e7cd004fdeb9183af06b33aab4"
     ]
    },
    "executionInfo": {
     "elapsed": 431,
     "status": "ok",
     "timestamp": 1647467828137,
     "user": {
      "displayName": "Cristino Ramírez",
      "photoUrl": "https://lh3.googleusercontent.com/a-/AOh14GhoEHC-Vmc3NAyRF3jIZT7ahhvInR4fN7c6lILH=s64",
      "userId": "14842851139139848475"
     },
     "user_tz": -60
    },
    "id": "KgEGGd_DAW5m",
    "outputId": "d41efd4d-6c2d-47ce-d863-938f9a971926"
   },
   "outputs": [],
   "source": [
    "out_pl = widgets.Output()\n",
    "out_pl.clear_output()\n",
    "with out_pl: display(img.to_thumb(128,128))\n",
    "out_pl"
   ]
  },
  {
   "cell_type": "code",
   "execution_count": null,
   "metadata": {
    "executionInfo": {
     "elapsed": 283,
     "status": "ok",
     "timestamp": 1647467830871,
     "user": {
      "displayName": "Cristino Ramírez",
      "photoUrl": "https://lh3.googleusercontent.com/a-/AOh14GhoEHC-Vmc3NAyRF3jIZT7ahhvInR4fN7c6lILH=s64",
      "userId": "14842851139139848475"
     },
     "user_tz": -60
    },
    "id": "Ors6PLHFBPxp"
   },
   "outputs": [],
   "source": [
    "path = Path()\n",
    "learn_inf = load_learner(path/'export.pkl')"
   ]
  },
  {
   "cell_type": "code",
   "execution_count": null,
   "metadata": {
    "colab": {
     "base_uri": "https://localhost:8080/",
     "height": 17
    },
    "executionInfo": {
     "elapsed": 245,
     "status": "ok",
     "timestamp": 1647467834183,
     "user": {
      "displayName": "Cristino Ramírez",
      "photoUrl": "https://lh3.googleusercontent.com/a-/AOh14GhoEHC-Vmc3NAyRF3jIZT7ahhvInR4fN7c6lILH=s64",
      "userId": "14842851139139848475"
     },
     "user_tz": -60
    },
    "id": "oAVUcEuYAadY",
    "outputId": "eb233ddb-fe2e-4868-9881-77922a78669a"
   },
   "outputs": [],
   "source": [
    "pred,pred_idx,probs = learn_inf.predict(img)"
   ]
  },
  {
   "cell_type": "code",
   "execution_count": null,
   "metadata": {
    "colab": {
     "base_uri": "https://localhost:8080/",
     "height": 49,
     "referenced_widgets": [
      "096ed096d5184e69acd1d4d655e089ae",
      "9ea8242de61c4285bbe8cdc2f8d0be5f",
      "8ee2ccfcdefd49bc945277e6cc15e01d"
     ]
    },
    "executionInfo": {
     "elapsed": 284,
     "status": "ok",
     "timestamp": 1647467837504,
     "user": {
      "displayName": "Cristino Ramírez",
      "photoUrl": "https://lh3.googleusercontent.com/a-/AOh14GhoEHC-Vmc3NAyRF3jIZT7ahhvInR4fN7c6lILH=s64",
      "userId": "14842851139139848475"
     },
     "user_tz": -60
    },
    "id": "a6qbr22LDam1",
    "outputId": "bc6c6310-5084-4110-b3f7-2ade58631686"
   },
   "outputs": [],
   "source": [
    "lbl_pred = widgets.Label()\n",
    "lbl_pred.value = f'Prediction: {pred}; Probability: {probs[pred_idx]:.04f}'\n",
    "lbl_pred"
   ]
  },
  {
   "cell_type": "code",
   "execution_count": null,
   "metadata": {
    "colab": {
     "base_uri": "https://localhost:8080/",
     "height": 49,
     "referenced_widgets": [
      "224aa1a79e50402280add84de9dabcb5",
      "d2990b4160e3494fb4b752375ab24012",
      "9b80454f5aaa4e6c83a92a5e46682e53"
     ]
    },
    "executionInfo": {
     "elapsed": 248,
     "status": "ok",
     "timestamp": 1647467840989,
     "user": {
      "displayName": "Cristino Ramírez",
      "photoUrl": "https://lh3.googleusercontent.com/a-/AOh14GhoEHC-Vmc3NAyRF3jIZT7ahhvInR4fN7c6lILH=s64",
      "userId": "14842851139139848475"
     },
     "user_tz": -60
    },
    "id": "aecegA1rDfoq",
    "outputId": "448f9e65-6f91-45a8-ccb3-a547a9df2cbb"
   },
   "outputs": [],
   "source": [
    "btn_run = widgets.Button(description='Classify')\n",
    "btn_run"
   ]
  },
  {
   "cell_type": "code",
   "execution_count": null,
   "metadata": {
    "executionInfo": {
     "elapsed": 245,
     "status": "ok",
     "timestamp": 1647467843725,
     "user": {
      "displayName": "Cristino Ramírez",
      "photoUrl": "https://lh3.googleusercontent.com/a-/AOh14GhoEHC-Vmc3NAyRF3jIZT7ahhvInR4fN7c6lILH=s64",
      "userId": "14842851139139848475"
     },
     "user_tz": -60
    },
    "id": "bTIIcizLDg87"
   },
   "outputs": [],
   "source": [
    "def on_click_classify(change):\n",
    "  img = PILImage.create(btn_upload.data[-1])\n",
    "  out_pl.clear_output()\n",
    "  with out_pl: display(img.to_thumb(128,128))\n",
    "  pred,pred_idx,probs = learn_inf.predict(img)\n",
    "  lbl_pred.value = f'Prediction: {pred}; Probability: {probs[pred_idx]:.04f}'\n",
    "btn_run.on_click(on_click_classify)"
   ]
  },
  {
   "cell_type": "code",
   "execution_count": null,
   "metadata": {
    "colab": {
     "base_uri": "https://localhost:8080/",
     "height": 230,
     "referenced_widgets": [
      "3ceee4a2e9344885b8799d8b6954e308",
      "2b4f016bc1484f1282eae44bc5f8834f",
      "02cf429d4ab0408b9ad36243223ff065",
      "224aa1a79e50402280add84de9dabcb5",
      "ebf987f57c1c43ada81eb27757dc4aca",
      "096ed096d5184e69acd1d4d655e089ae",
      "3ec2c173ddfd471584b85755de6d065c",
      "7b4e5da9eb224e63adc629522a245cd0",
      "69ad0cbdb0b94f358f33926c2aefed12",
      "a5dd25733aa64194bb05923bc2985923",
      "5cd5b55ceb7d4610abe04dbe9c65e096",
      "d2990b4160e3494fb4b752375ab24012",
      "9b80454f5aaa4e6c83a92a5e46682e53",
      "9ea8242de61c4285bbe8cdc2f8d0be5f",
      "8ee2ccfcdefd49bc945277e6cc15e01d",
      "de4ba5e7cd004fdeb9183af06b33aab4"
     ]
    },
    "executionInfo": {
     "elapsed": 255,
     "status": "ok",
     "timestamp": 1647467845860,
     "user": {
      "displayName": "Cristino Ramírez",
      "photoUrl": "https://lh3.googleusercontent.com/a-/AOh14GhoEHC-Vmc3NAyRF3jIZT7ahhvInR4fN7c6lILH=s64",
      "userId": "14842851139139848475"
     },
     "user_tz": -60
    },
    "id": "PecD9gOiDp0N",
    "outputId": "7fd81357-b0e6-441a-e017-6b42cda7b8a8"
   },
   "outputs": [],
   "source": [
    "VBox([widgets.Label('Select your bear!'),\n",
    "btn_upload, btn_run, out_pl, lbl_pred])"
   ]
  }
 ],
 "metadata": {
  "colab": {
   "authorship_tag": "ABX9TyNZCLf7CZdTkgK5hFKkahRz",
   "name": "Copia de Untitled10.ipynb",
   "provenance": [
    {
     "file_id": "1j5dPYXrfn2RMggzLzjr1EPgynmvpFfCL",
     "timestamp": 1647456650745
    }
   ]
  },
  "kernelspec": {
   "display_name": "Python 3",
   "language": "python",
   "name": "python3"
  },
  "language_info": {
   "codemirror_mode": {
    "name": "ipython",
    "version": 3
   },
   "file_extension": ".py",
   "mimetype": "text/x-python",
   "name": "python",
   "nbconvert_exporter": "python",
   "pygments_lexer": "ipython3",
   "version": "3.8.8"
  },
  "widgets": {
   "application/vnd.jupyter.widget-state+json": {
    "02cf429d4ab0408b9ad36243223ff065": {
     "model_module": "@jupyter-widgets/controls",
     "model_module_version": "1.5.0",
     "model_name": "FileUploadModel",
     "state": {
      "_counter": 3,
      "_dom_classes": [],
      "_model_module": "@jupyter-widgets/controls",
      "_model_module_version": "1.5.0",
      "_model_name": "FileUploadModel",
      "_view_count": null,
      "_view_module": "@jupyter-widgets/controls",
      "_view_module_version": "1.5.0",
      "_view_name": "FileUploadView",
      "accept": "",
      "button_style": "",
      "data": [
       null
      ],
      "description": "Upload",
      "description_tooltip": null,
      "disabled": false,
      "error": "",
      "icon": "upload",
      "layout": "IPY_MODEL_a5dd25733aa64194bb05923bc2985923",
      "metadata": [
       {
        "lastModified": 1642448839593,
        "name": "gato.jpg",
        "size": 114337,
        "type": "image/jpeg"
       }
      ],
      "multiple": false,
      "style": "IPY_MODEL_5cd5b55ceb7d4610abe04dbe9c65e096"
     }
    },
    "096ed096d5184e69acd1d4d655e089ae": {
     "model_module": "@jupyter-widgets/controls",
     "model_module_version": "1.5.0",
     "model_name": "LabelModel",
     "state": {
      "_dom_classes": [],
      "_model_module": "@jupyter-widgets/controls",
      "_model_module_version": "1.5.0",
      "_model_name": "LabelModel",
      "_view_count": null,
      "_view_module": "@jupyter-widgets/controls",
      "_view_module_version": "1.5.0",
      "_view_name": "LabelView",
      "description": "",
      "description_tooltip": null,
      "layout": "IPY_MODEL_9ea8242de61c4285bbe8cdc2f8d0be5f",
      "placeholder": "​",
      "style": "IPY_MODEL_8ee2ccfcdefd49bc945277e6cc15e01d",
      "value": "Prediction: teddy; Probability: 0.9453"
     }
    },
    "224aa1a79e50402280add84de9dabcb5": {
     "model_module": "@jupyter-widgets/controls",
     "model_module_version": "1.5.0",
     "model_name": "ButtonModel",
     "state": {
      "_dom_classes": [],
      "_model_module": "@jupyter-widgets/controls",
      "_model_module_version": "1.5.0",
      "_model_name": "ButtonModel",
      "_view_count": null,
      "_view_module": "@jupyter-widgets/controls",
      "_view_module_version": "1.5.0",
      "_view_name": "ButtonView",
      "button_style": "",
      "description": "Classify",
      "disabled": false,
      "icon": "",
      "layout": "IPY_MODEL_d2990b4160e3494fb4b752375ab24012",
      "style": "IPY_MODEL_9b80454f5aaa4e6c83a92a5e46682e53",
      "tooltip": ""
     }
    },
    "2b4f016bc1484f1282eae44bc5f8834f": {
     "model_module": "@jupyter-widgets/controls",
     "model_module_version": "1.5.0",
     "model_name": "LabelModel",
     "state": {
      "_dom_classes": [],
      "_model_module": "@jupyter-widgets/controls",
      "_model_module_version": "1.5.0",
      "_model_name": "LabelModel",
      "_view_count": null,
      "_view_module": "@jupyter-widgets/controls",
      "_view_module_version": "1.5.0",
      "_view_name": "LabelView",
      "description": "",
      "description_tooltip": null,
      "layout": "IPY_MODEL_7b4e5da9eb224e63adc629522a245cd0",
      "placeholder": "​",
      "style": "IPY_MODEL_69ad0cbdb0b94f358f33926c2aefed12",
      "value": "Select your bear!"
     }
    },
    "3ceee4a2e9344885b8799d8b6954e308": {
     "model_module": "@jupyter-widgets/controls",
     "model_module_version": "1.5.0",
     "model_name": "VBoxModel",
     "state": {
      "_dom_classes": [],
      "_model_module": "@jupyter-widgets/controls",
      "_model_module_version": "1.5.0",
      "_model_name": "VBoxModel",
      "_view_count": null,
      "_view_module": "@jupyter-widgets/controls",
      "_view_module_version": "1.5.0",
      "_view_name": "VBoxView",
      "box_style": "",
      "children": [
       "IPY_MODEL_2b4f016bc1484f1282eae44bc5f8834f",
       "IPY_MODEL_02cf429d4ab0408b9ad36243223ff065",
       "IPY_MODEL_224aa1a79e50402280add84de9dabcb5",
       "IPY_MODEL_ebf987f57c1c43ada81eb27757dc4aca",
       "IPY_MODEL_096ed096d5184e69acd1d4d655e089ae"
      ],
      "layout": "IPY_MODEL_3ec2c173ddfd471584b85755de6d065c"
     }
    },
    "3ec2c173ddfd471584b85755de6d065c": {
     "model_module": "@jupyter-widgets/base",
     "model_module_version": "1.2.0",
     "model_name": "LayoutModel",
     "state": {
      "_model_module": "@jupyter-widgets/base",
      "_model_module_version": "1.2.0",
      "_model_name": "LayoutModel",
      "_view_count": null,
      "_view_module": "@jupyter-widgets/base",
      "_view_module_version": "1.2.0",
      "_view_name": "LayoutView",
      "align_content": null,
      "align_items": null,
      "align_self": null,
      "border": null,
      "bottom": null,
      "display": null,
      "flex": null,
      "flex_flow": null,
      "grid_area": null,
      "grid_auto_columns": null,
      "grid_auto_flow": null,
      "grid_auto_rows": null,
      "grid_column": null,
      "grid_gap": null,
      "grid_row": null,
      "grid_template_areas": null,
      "grid_template_columns": null,
      "grid_template_rows": null,
      "height": null,
      "justify_content": null,
      "justify_items": null,
      "left": null,
      "margin": null,
      "max_height": null,
      "max_width": null,
      "min_height": null,
      "min_width": null,
      "object_fit": null,
      "object_position": null,
      "order": null,
      "overflow": null,
      "overflow_x": null,
      "overflow_y": null,
      "padding": null,
      "right": null,
      "top": null,
      "visibility": null,
      "width": null
     }
    },
    "5cd5b55ceb7d4610abe04dbe9c65e096": {
     "model_module": "@jupyter-widgets/controls",
     "model_module_version": "1.5.0",
     "model_name": "ButtonStyleModel",
     "state": {
      "_model_module": "@jupyter-widgets/controls",
      "_model_module_version": "1.5.0",
      "_model_name": "ButtonStyleModel",
      "_view_count": null,
      "_view_module": "@jupyter-widgets/base",
      "_view_module_version": "1.2.0",
      "_view_name": "StyleView",
      "button_color": null,
      "font_weight": ""
     }
    },
    "69ad0cbdb0b94f358f33926c2aefed12": {
     "model_module": "@jupyter-widgets/controls",
     "model_module_version": "1.5.0",
     "model_name": "DescriptionStyleModel",
     "state": {
      "_model_module": "@jupyter-widgets/controls",
      "_model_module_version": "1.5.0",
      "_model_name": "DescriptionStyleModel",
      "_view_count": null,
      "_view_module": "@jupyter-widgets/base",
      "_view_module_version": "1.2.0",
      "_view_name": "StyleView",
      "description_width": ""
     }
    },
    "7b4e5da9eb224e63adc629522a245cd0": {
     "model_module": "@jupyter-widgets/base",
     "model_module_version": "1.2.0",
     "model_name": "LayoutModel",
     "state": {
      "_model_module": "@jupyter-widgets/base",
      "_model_module_version": "1.2.0",
      "_model_name": "LayoutModel",
      "_view_count": null,
      "_view_module": "@jupyter-widgets/base",
      "_view_module_version": "1.2.0",
      "_view_name": "LayoutView",
      "align_content": null,
      "align_items": null,
      "align_self": null,
      "border": null,
      "bottom": null,
      "display": null,
      "flex": null,
      "flex_flow": null,
      "grid_area": null,
      "grid_auto_columns": null,
      "grid_auto_flow": null,
      "grid_auto_rows": null,
      "grid_column": null,
      "grid_gap": null,
      "grid_row": null,
      "grid_template_areas": null,
      "grid_template_columns": null,
      "grid_template_rows": null,
      "height": null,
      "justify_content": null,
      "justify_items": null,
      "left": null,
      "margin": null,
      "max_height": null,
      "max_width": null,
      "min_height": null,
      "min_width": null,
      "object_fit": null,
      "object_position": null,
      "order": null,
      "overflow": null,
      "overflow_x": null,
      "overflow_y": null,
      "padding": null,
      "right": null,
      "top": null,
      "visibility": null,
      "width": null
     }
    },
    "8ee2ccfcdefd49bc945277e6cc15e01d": {
     "model_module": "@jupyter-widgets/controls",
     "model_module_version": "1.5.0",
     "model_name": "DescriptionStyleModel",
     "state": {
      "_model_module": "@jupyter-widgets/controls",
      "_model_module_version": "1.5.0",
      "_model_name": "DescriptionStyleModel",
      "_view_count": null,
      "_view_module": "@jupyter-widgets/base",
      "_view_module_version": "1.2.0",
      "_view_name": "StyleView",
      "description_width": ""
     }
    },
    "9b80454f5aaa4e6c83a92a5e46682e53": {
     "model_module": "@jupyter-widgets/controls",
     "model_module_version": "1.5.0",
     "model_name": "ButtonStyleModel",
     "state": {
      "_model_module": "@jupyter-widgets/controls",
      "_model_module_version": "1.5.0",
      "_model_name": "ButtonStyleModel",
      "_view_count": null,
      "_view_module": "@jupyter-widgets/base",
      "_view_module_version": "1.2.0",
      "_view_name": "StyleView",
      "button_color": null,
      "font_weight": ""
     }
    },
    "9ea8242de61c4285bbe8cdc2f8d0be5f": {
     "model_module": "@jupyter-widgets/base",
     "model_module_version": "1.2.0",
     "model_name": "LayoutModel",
     "state": {
      "_model_module": "@jupyter-widgets/base",
      "_model_module_version": "1.2.0",
      "_model_name": "LayoutModel",
      "_view_count": null,
      "_view_module": "@jupyter-widgets/base",
      "_view_module_version": "1.2.0",
      "_view_name": "LayoutView",
      "align_content": null,
      "align_items": null,
      "align_self": null,
      "border": null,
      "bottom": null,
      "display": null,
      "flex": null,
      "flex_flow": null,
      "grid_area": null,
      "grid_auto_columns": null,
      "grid_auto_flow": null,
      "grid_auto_rows": null,
      "grid_column": null,
      "grid_gap": null,
      "grid_row": null,
      "grid_template_areas": null,
      "grid_template_columns": null,
      "grid_template_rows": null,
      "height": null,
      "justify_content": null,
      "justify_items": null,
      "left": null,
      "margin": null,
      "max_height": null,
      "max_width": null,
      "min_height": null,
      "min_width": null,
      "object_fit": null,
      "object_position": null,
      "order": null,
      "overflow": null,
      "overflow_x": null,
      "overflow_y": null,
      "padding": null,
      "right": null,
      "top": null,
      "visibility": null,
      "width": null
     }
    },
    "a5dd25733aa64194bb05923bc2985923": {
     "model_module": "@jupyter-widgets/base",
     "model_module_version": "1.2.0",
     "model_name": "LayoutModel",
     "state": {
      "_model_module": "@jupyter-widgets/base",
      "_model_module_version": "1.2.0",
      "_model_name": "LayoutModel",
      "_view_count": null,
      "_view_module": "@jupyter-widgets/base",
      "_view_module_version": "1.2.0",
      "_view_name": "LayoutView",
      "align_content": null,
      "align_items": null,
      "align_self": null,
      "border": null,
      "bottom": null,
      "display": null,
      "flex": null,
      "flex_flow": null,
      "grid_area": null,
      "grid_auto_columns": null,
      "grid_auto_flow": null,
      "grid_auto_rows": null,
      "grid_column": null,
      "grid_gap": null,
      "grid_row": null,
      "grid_template_areas": null,
      "grid_template_columns": null,
      "grid_template_rows": null,
      "height": null,
      "justify_content": null,
      "justify_items": null,
      "left": null,
      "margin": null,
      "max_height": null,
      "max_width": null,
      "min_height": null,
      "min_width": null,
      "object_fit": null,
      "object_position": null,
      "order": null,
      "overflow": null,
      "overflow_x": null,
      "overflow_y": null,
      "padding": null,
      "right": null,
      "top": null,
      "visibility": null,
      "width": null
     }
    },
    "d2990b4160e3494fb4b752375ab24012": {
     "model_module": "@jupyter-widgets/base",
     "model_module_version": "1.2.0",
     "model_name": "LayoutModel",
     "state": {
      "_model_module": "@jupyter-widgets/base",
      "_model_module_version": "1.2.0",
      "_model_name": "LayoutModel",
      "_view_count": null,
      "_view_module": "@jupyter-widgets/base",
      "_view_module_version": "1.2.0",
      "_view_name": "LayoutView",
      "align_content": null,
      "align_items": null,
      "align_self": null,
      "border": null,
      "bottom": null,
      "display": null,
      "flex": null,
      "flex_flow": null,
      "grid_area": null,
      "grid_auto_columns": null,
      "grid_auto_flow": null,
      "grid_auto_rows": null,
      "grid_column": null,
      "grid_gap": null,
      "grid_row": null,
      "grid_template_areas": null,
      "grid_template_columns": null,
      "grid_template_rows": null,
      "height": null,
      "justify_content": null,
      "justify_items": null,
      "left": null,
      "margin": null,
      "max_height": null,
      "max_width": null,
      "min_height": null,
      "min_width": null,
      "object_fit": null,
      "object_position": null,
      "order": null,
      "overflow": null,
      "overflow_x": null,
      "overflow_y": null,
      "padding": null,
      "right": null,
      "top": null,
      "visibility": null,
      "width": null
     }
    },
    "de4ba5e7cd004fdeb9183af06b33aab4": {
     "model_module": "@jupyter-widgets/base",
     "model_module_version": "1.2.0",
     "model_name": "LayoutModel",
     "state": {
      "_model_module": "@jupyter-widgets/base",
      "_model_module_version": "1.2.0",
      "_model_name": "LayoutModel",
      "_view_count": null,
      "_view_module": "@jupyter-widgets/base",
      "_view_module_version": "1.2.0",
      "_view_name": "LayoutView",
      "align_content": null,
      "align_items": null,
      "align_self": null,
      "border": null,
      "bottom": null,
      "display": null,
      "flex": null,
      "flex_flow": null,
      "grid_area": null,
      "grid_auto_columns": null,
      "grid_auto_flow": null,
      "grid_auto_rows": null,
      "grid_column": null,
      "grid_gap": null,
      "grid_row": null,
      "grid_template_areas": null,
      "grid_template_columns": null,
      "grid_template_rows": null,
      "height": null,
      "justify_content": null,
      "justify_items": null,
      "left": null,
      "margin": null,
      "max_height": null,
      "max_width": null,
      "min_height": null,
      "min_width": null,
      "object_fit": null,
      "object_position": null,
      "order": null,
      "overflow": null,
      "overflow_x": null,
      "overflow_y": null,
      "padding": null,
      "right": null,
      "top": null,
      "visibility": null,
      "width": null
     }
    },
    "ebf987f57c1c43ada81eb27757dc4aca": {
     "model_module": "@jupyter-widgets/output",
     "model_module_version": "1.0.0",
     "model_name": "OutputModel",
     "state": {
      "_dom_classes": [],
      "_model_module": "@jupyter-widgets/output",
      "_model_module_version": "1.0.0",
      "_model_name": "OutputModel",
      "_view_count": null,
      "_view_module": "@jupyter-widgets/output",
      "_view_module_version": "1.0.0",
      "_view_name": "OutputView",
      "layout": "IPY_MODEL_de4ba5e7cd004fdeb9183af06b33aab4",
      "msg_id": "",
      "outputs": [
       {
        "data": {
         "image/png": "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\n",
         "text/plain": "<PIL.Image.Image image mode=RGB size=128x85 at 0x7F7F1A515510>"
        },
        "metadata": {},
        "output_type": "display_data"
       }
      ]
     }
    }
   }
  }
 },
 "nbformat": 4,
 "nbformat_minor": 1
}
